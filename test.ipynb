{
 "cells": [
  {
   "cell_type": "code",
   "execution_count": 3,
   "metadata": {},
   "outputs": [
    {
     "name": "stdout",
     "output_type": "stream",
     "text": [
      "200\n"
     ]
    }
   ],
   "source": [
    "import os\n",
    "os.environ['http_proxy'] = \"http://127.0.0.1:7890\"\n",
    "os.environ['https_proxy'] = \"http://127.0.0.1:7890\"\n",
    "\n",
    "import requests\n",
    "print(requests.get(\"https://huggingface.co\", \n",
    "                  proxies={'http': 'http://127.0.0.1:7890', \n",
    "                          'https': 'http://127.0.0.1:7890'}).status_code)"
   ]
  },
  {
   "cell_type": "code",
   "execution_count": null,
   "metadata": {},
   "outputs": [],
   "source": [
    "# nohup sh  ./shell/cuhk-train.sh  > ./output.log 2>&1 &\n"
   ]
  },
  {
   "cell_type": "code",
   "execution_count": null,
   "metadata": {},
   "outputs": [],
   "source": [
    "# {\n",
    "#     \"version\": \"0.2.0\",\n",
    "#     \"configurations\": [\n",
    "#         {\n",
    "#             \"name\": \"Python: Train\",\n",
    "#             \"type\": \"debugpy\",\n",
    "#             \"request\": \"launch\",\n",
    "#             \"program\": \"${workspaceFolder}/train.py\",\n",
    "#             \"console\": \"integratedTerminal\",\n",
    "#             \"env\": {\n",
    "#                 \"DATASET_NAME\": \"CUHK-PEDES\",\n",
    "#                 \"CUDA_VISIBLE_DEVICES\": \"3\",\n",
    "#                 \"MASTER_ADDR\": \"localhost\",\n",
    "#                 \"MASTER_PORT\": \"12345\",\n",
    "#                 \"WORLD_SIZE\": \"1\",\n",
    "#                 // \"RANK\": \"0\"\n",
    "#             },\n",
    "#             \"args\": [\n",
    "#                 \"-m\",\n",
    "#                 \"torchrun\",\n",
    "#                 // \"--nproc_per_node=3\",\n",
    "#                 \"${workspaceFolder}/train.py\",\n",
    "#                 \"--name\",\n",
    "#                 \"iira\",\n",
    "#                 \"--img_aug\",\n",
    "#                 \"--batch_size\",\n",
    "#                 \"2\",\n",
    "#                 \"--MLM\",\n",
    "#                 \"--dataset_name\",\n",
    "#                 \"CUHK-PEDES\",\n",
    "#                 \"--loss_names\",\n",
    "#                 \"itc+mlm+id\",\n",
    "#                 \"--root_dir\",\n",
    "#                 \"/home/cxd/storage/proj/IRRA/_id\",\n",
    "#                 \"--num_epoch\",\n",
    "#                 \"60\"\n",
    "#             ]\n",
    "#         }\n",
    "#     ]\n",
    "# }"
   ]
  }
 ],
 "metadata": {
  "kernelspec": {
   "display_name": "irra_transformers_4.18",
   "language": "python",
   "name": "python3"
  },
  "language_info": {
   "codemirror_mode": {
    "name": "ipython",
    "version": 3
   },
   "file_extension": ".py",
   "mimetype": "text/x-python",
   "name": "python",
   "nbconvert_exporter": "python",
   "pygments_lexer": "ipython3",
   "version": "3.8.20"
  }
 },
 "nbformat": 4,
 "nbformat_minor": 2
}
